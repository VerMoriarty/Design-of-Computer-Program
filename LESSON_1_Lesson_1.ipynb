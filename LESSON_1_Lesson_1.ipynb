{
 "cells": [
  {
   "cell_type": "code",
   "execution_count": 10,
   "metadata": {},
   "outputs": [
    {
     "name": "stdout",
     "output_type": "stream",
     "text": [
      "tests pass\n"
     ]
    }
   ],
   "source": [
    "# -----------\n",
    "# User Instructions\n",
    "# \n",
    "# Define a function, two_pair(ranks).\n",
    "\n",
    "def two_pair(ranks):\n",
    "    \"\"\"If there are two pair, return the two ranks as a\n",
    "    tuple: (highest, lowest); otherwise return None.\"\"\"\n",
    "    pair = kind(2, ranks)\n",
    "    lowpair = kind(2, list(reversed(ranks)))\n",
    "    if pair and lowpair != pair:\n",
    "        return (pair, lowpair)\n",
    "    else:\n",
    "        return None\n",
    "\n",
    "def kind(n, ranks):\n",
    "    \"\"\"Return the first rank that this hand has exactly n of.\n",
    "    Return None if there is no n-of-a-kind in the hand.\"\"\"\n",
    "    for r in ranks:\n",
    "        if ranks.count(r) == n: return r \n",
    "    return None\n",
    "\n",
    "def test():\n",
    "    \"Test cases for the functions in poker program.\"\n",
    "    sf = \"6C 7C 8C 9C TC\".split() # Straight Flush\n",
    "    fk = \"9D 9H 9S 9C 7D\".split() # Four of a Kind\n",
    "    fh = \"TD TC TH 7C 7D\".split() # Full House\n",
    "    tp = \"TD 9H TH 7C 3S\".split() # Two Pair\n",
    "    fkranks = card_ranks(fk)\n",
    "    tpranks = card_ranks(tp)\n",
    "    assert kind(4, fkranks) == 9\n",
    "    assert kind(3, fkranks) == None\n",
    "    assert kind(2, fkranks) == None\n",
    "    assert kind(1, fkranks) == 7\n",
    "    return 'tests pass'\n",
    "    \n",
    "def card_ranks(hand):\n",
    "    \"Return a list of the ranks, sorted with higher first.\"\n",
    "    ranks = ['--23456789TJQKA'.index(r) for r, s in hand]\n",
    "    ranks.sort(reverse = True)\n",
    "    return ranks\n",
    "\n",
    "print(test())"
   ]
  },
  {
   "cell_type": "markdown",
   "metadata": {},
   "source": [
    "## 24. Handing Ties"
   ]
  },
  {
   "cell_type": "code",
   "execution_count": 11,
   "metadata": {},
   "outputs": [],
   "source": [
    "# -----------\n",
    "# User Instructions\n",
    "# \n",
    "# Modify the card_ranks(hand) function so that a \n",
    "# straight with a low ace (A, 2, 3, 4, 5) will be\n",
    "# properly identified as a straight by the \n",
    "# straight() function.\n",
    "\n",
    "def card_ranks(hand):\n",
    "    \"Return a list of the ranks, sorted with higher first.\"\n",
    "    ranks = ['--23456789TJQKA'.index(r) for r, s in hand]\n",
    "    ranks.sort(reverse = True)\n",
    "    return [5, 4, 3, 2, 1] if (ranks == [14, 5, 4, 3, 2]) else ranks\n",
    "\n",
    "def straight(ranks):\n",
    "    \"Return True if the ordered ranks form a 5-card straight.\"\n",
    "    return (max(ranks)-min(ranks) == 4) and len(set(ranks)) == 5\n",
    "\n",
    "def test():\n",
    "    \"Test cases for the functions in poker program.\"\n",
    "    sf = \"6C 7C 8C 9C TC\".split() # Straight Flush\n",
    "    fk = \"9D 9H 9S 9C 7D\".split() # Four of a Kind\n",
    "    fh = \"TD TC TH 7C 7D\".split() # Full House\n",
    "    al = \"AC 2D 4H 3D 5S\".split() # Ace-Low Straight\n",
    "    assert straight(card_ranks(al)) == True \n",
    "    return 'tests pass'"
   ]
  },
  {
   "cell_type": "markdown",
   "metadata": {},
   "source": [
    "## 25. 练习：Allmax"
   ]
  },
  {
   "cell_type": "code",
   "execution_count": 16,
   "metadata": {},
   "outputs": [],
   "source": [
    "# -----------\n",
    "# User Instructions\n",
    "# \n",
    "# Write a function, allmax(iterable, key=None), that returns\n",
    "# a list of all items equal to the max of the iterable, \n",
    "# according to the function specified by key. \n",
    "\n",
    "def poker(hands):\n",
    "    \"Return a list of winning hands: poker([hand,...]) => [hand,...]\"\n",
    "    return allmax(hands, key=hand_rank)\n",
    "\n",
    "def allmax(iterable, key=None):\n",
    "    \"Return a list of all items equal to the max of the iterable.\"\n",
    "    result, maxval = [], None\n",
    "    key = key or (lambda x: x)    \n",
    "    for x in iterable:\n",
    "        xval = key(x)\n",
    "        if not result or xval > maxval:\n",
    "            result, maxval = [x], xval\n",
    "        elif xval == maxval:\n",
    "            result.append(x)\n",
    "    return result\n",
    "\n",
    "def hand_rank(hand):\n",
    "    \"Return a value indicating the ranking of a hand.\"\n",
    "    ranks = card_ranks(hand) \n",
    "    if straight(ranks) and flush(hand):\n",
    "        return (8, max(ranks))\n",
    "    elif kind(4, ranks):\n",
    "        return (7, kind(4, ranks), kind(1, ranks))\n",
    "    elif kind(3, ranks) and kind(2, ranks):\n",
    "        return (6, kind(3, ranks), kind(2, ranks))\n",
    "    elif flush(hand):\n",
    "        return (5, ranks)\n",
    "    elif straight(ranks):\n",
    "        return (4, max(ranks))\n",
    "    elif kind(3, ranks):\n",
    "        return (3, kind(3, ranks), ranks)\n",
    "    elif two_pair(ranks):\n",
    "        return (2, two_pair(ranks), ranks)\n",
    "    elif kind(2, ranks):\n",
    "        return (1, kind(2, ranks), ranks)\n",
    "    else:\n",
    "        return (0, ranks)\n",
    "\n",
    "def card_ranks(hand):\n",
    "    \"Return a list of the ranks, sorted with higher first.\"\n",
    "    ranks = ['--23456789TJQKA'.index(r) for r, s in hand]\n",
    "    ranks.sort(reverse = True)\n",
    "    return [5, 4, 3, 2, 1] if (ranks == [14, 5, 4, 3, 2]) else ranks\n",
    "\n",
    "def flush(hand):\n",
    "    \"Return True if all the cards have the same suit.\"\n",
    "    suits = [s for r,s in hand]\n",
    "    return len(set(suits)) == 1\n",
    "\n",
    "def straight(ranks):\n",
    "    \"Return True if the ordered ranks form a 5-card straight.\"\n",
    "    return (max(ranks)-min(ranks) == 4) and len(set(ranks)) == 5\n",
    "\n",
    "def kind(n, ranks):\n",
    "    \"\"\"Return the first rank that this hand has exactly n-of-a-kind of.\n",
    "    Return None if there is no n-of-a-kind in the hand.\"\"\"\n",
    "    for r in ranks:\n",
    "        if ranks.count(r) == n: return r\n",
    "    return None\n",
    "\n",
    "def two_pair(ranks):\n",
    "    \"If there are two pair here, return the two ranks of the two pairs, else None.\"\n",
    "    pair = kind(2, ranks)\n",
    "    lowpair = kind(2, list(reversed(ranks)))\n",
    "    if pair and lowpair != pair:\n",
    "        return (pair, lowpair)\n",
    "    else:\n",
    "        return None\n",
    "\n",
    "def test():\n",
    "    \"Test cases for the functions in poker program.\"\n",
    "    sf1 = \"6C 7C 8C 9C TC\".split() # Straight Flush\n",
    "    sf2 = \"6D 7D 8D 9D TD\".split() # Straight Flush\n",
    "    fk = \"9D 9H 9S 9C 7D\".split() # Four of a Kind\n",
    "    fh = \"TD TC TH 7C 7D\".split() # Full House\n",
    "    assert poker([sf1, sf2, fk, fh]) == [sf1, sf2] \n",
    "    return 'tests pass'"
   ]
  },
  {
   "cell_type": "markdown",
   "metadata": {},
   "source": [
    "## 26. 练习：Deal"
   ]
  },
  {
   "cell_type": "code",
   "execution_count": 30,
   "metadata": {},
   "outputs": [],
   "source": [
    "# -----------\n",
    "# User Instructions\n",
    "# \n",
    "# Write a function, deal(numhands, n=5, deck), that \n",
    "# deals numhands hands with n cards each.\n",
    "#\n",
    "\n",
    "import random # this will be a useful library for shuffling\n",
    "\n",
    "# This builds a deck of 52 cards. If you are unfamiliar\n",
    "# with this notation, check out Andy's supplemental video\n",
    "# on list comprehensions (you can find the link in the \n",
    "# Instructor Comments box below).\n",
    "\n",
    "mydeck = [r+s for r in '23456789TJQKA' for s in 'SHDC'] \n",
    "\n",
    "def deal(numhands, n=5, deck=mydeck):\n",
    "    \"Shuffle the deck and deal out numbands n-card hands\"\n",
    "    random.shuffle(deck)\n",
    "    return [deck[n*i: n*(i+1)] for i in range(numhands)]"
   ]
  },
  {
   "cell_type": "code",
   "execution_count": 32,
   "metadata": {},
   "outputs": [
    {
     "name": "stdout",
     "output_type": "stream",
     "text": [
      "[['QH', '8D', 'KS', 'JC', '9H', 'KH', '2H'], ['2S', '5S', 'TH', '8H', 'TS', 'QS', '4D']]\n"
     ]
    }
   ],
   "source": [
    "print(deal(2, 7))"
   ]
  },
  {
   "cell_type": "markdown",
   "metadata": {},
   "source": [
    "## 27. 练习：Hand Frequencies"
   ]
  },
  {
   "cell_type": "code",
   "execution_count": 47,
   "metadata": {},
   "outputs": [],
   "source": [
    "def hand_percentages(n=700*1000):\n",
    "    \"Sample n random hands and print a table of percentages for each type of hand\"\n",
    "    counts = [0]*9\n",
    "    for i in range(n//10):\n",
    "        for hand in deal(10):\n",
    "            ranking = hand_rank(hand)[0]\n",
    "            counts[ranking] += 1\n",
    "    for i in reversed(range(9)):\n",
    "        print(\"%14s: %6.3f %%\" % (i, 100.*counts[i]/n))"
   ]
  },
  {
   "cell_type": "code",
   "execution_count": 49,
   "metadata": {},
   "outputs": [
    {
     "name": "stdout",
     "output_type": "stream",
     "text": [
      "             8:  0.002 %\n",
      "             7:  0.025 %\n",
      "             6:  0.149 %\n",
      "             5:  0.188 %\n",
      "             4:  0.382 %\n",
      "             3:  2.109 %\n",
      "             2:  4.733 %\n",
      "             1: 42.264 %\n",
      "             0: 50.148 %\n"
     ]
    }
   ],
   "source": [
    "hand_percentages(700000)"
   ]
  },
  {
   "cell_type": "markdown",
   "metadata": {},
   "source": [
    "## 28. Dimensions Of Programming"
   ]
  },
  {
   "cell_type": "markdown",
   "metadata": {},
   "source": [
    "1. correctness\n",
    "2. efficiency: faster\n",
    "3. features: deal with ties\n",
    "4. elegance: \"Elegance is not optional.\"\n",
    "\n",
    "\"The best is the enemy of the good.\""
   ]
  },
  {
   "cell_type": "markdown",
   "metadata": {},
   "source": [
    "## Refactoring"
   ]
  },
  {
   "cell_type": "markdown",
   "metadata": {},
   "source": [
    "\"Dry: don't repeat yourself.\" principle"
   ]
  },
  {
   "cell_type": "code",
   "execution_count": null,
   "metadata": {},
   "outputs": [],
   "source": [
    "elif kind(3, ranks) and kind(2, ranks):\n",
    "    return (6, kind(3, ranks), kind(2, ranks))"
   ]
  },
  {
   "cell_type": "markdown",
   "metadata": {},
   "source": [
    "poker hands 和 5 的整数分拆之间的双射"
   ]
  },
  {
   "cell_type": "code",
   "execution_count": 62,
   "metadata": {},
   "outputs": [],
   "source": [
    "def hand_rank(hand):\n",
    "    \"Return a value indicating how high the hand ranks.\"\n",
    "    # counts is the count of each rank; rank lists corresponding ranks\n",
    "    # E.g. '7 T 7 9 7' => counts = (3, 1, 1); ranks = (7, 10, 9)\n",
    "    groups = group(['--23456789TJQKA'.index(r) for r,s in hand])\n",
    "    counts, ranks = unzip(groups)\n",
    "    if ranks == (14, 5, 4, 3, 2):\n",
    "        ranks = (5, 4, 3, 2, 1)\n",
    "    straight = len(ranks) == 5 and max(ranks)-min(ranks) == 4\n",
    "    flush = len(set([s for s in hand])) == 1\n",
    "    return (9 if (5,) == counts else\n",
    "           8 if straight and flush else\n",
    "           7 if (4,1) == counts else\n",
    "           6 if (3,2) == counts else\n",
    "           5 if flush else\n",
    "           4 if straight else\n",
    "           3 if (3,1,1) == counts else\n",
    "           2 if (2,2,1) == counts else\n",
    "           1 if (2,2,1,1) == counts else\n",
    "           0), ranks"
   ]
  },
  {
   "cell_type": "markdown",
   "metadata": {},
   "source": [
    "## Summary"
   ]
  },
  {
   "cell_type": "code",
   "execution_count": 60,
   "metadata": {},
   "outputs": [],
   "source": [
    "def group(items):\n",
    "    \"Return a list of [(count, x)...], highest count first, then highest x first.\"\n",
    "    groups = [(items.count(x), x) for x in set(items)]\n",
    "    return sorted(groups, reverse=True)\n",
    "\n",
    "def unzip(pairs):return zip(*pairs)"
   ]
  },
  {
   "cell_type": "code",
   "execution_count": 65,
   "metadata": {},
   "outputs": [],
   "source": [
    "def hand_rank(hand):\n",
    "    \"Return a value indicating how high the hand ranks.\"\n",
    "    # counts is the count of each rank; rank lists corresponding ranks\n",
    "    # E.g. '7 T 7 9 7' => counts = (3, 1, 1); ranks = (7, 10, 9)\n",
    "    groups = group(['--23456789TJQKA'.index(r) for r,s in hand])\n",
    "    counts, ranks = unzip(groups)\n",
    "    if ranks == (14, 5, 4, 3, 2):\n",
    "        ranks = (5, 4, 3, 2, 1)\n",
    "    straight = len(ranks) == 5 and max(ranks)-min(ranks) == 4\n",
    "    flush = len(set([s for s in hand])) == 1\n",
    "    return max(count_rankings[counts], 4*straight + 5*flush), ranks\n",
    "\n",
    "count_rankings = {(5,):10, (4,1):7, (3,2):6, (3,1,1):3, (2,2,1):2, \n",
    "                  (2,1,1,1):1, (1,1,1,1,1):0}"
   ]
  },
  {
   "cell_type": "markdown",
   "metadata": {},
   "source": [
    "### LESSONS LEARNED"
   ]
  },
  {
   "cell_type": "markdown",
   "metadata": {},
   "source": [
    "understand\n",
    "define pieces\n",
    "reuse\n",
    "test\n",
    "explore"
   ]
  }
 ],
 "metadata": {
  "kernelspec": {
   "display_name": "Python 3",
   "language": "python",
   "name": "python3"
  },
  "language_info": {
   "codemirror_mode": {
    "name": "ipython",
    "version": 3
   },
   "file_extension": ".py",
   "mimetype": "text/x-python",
   "name": "python",
   "nbconvert_exporter": "python",
   "pygments_lexer": "ipython3",
   "version": "3.7.1"
  }
 },
 "nbformat": 4,
 "nbformat_minor": 2
}
