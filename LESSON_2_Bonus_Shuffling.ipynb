{
 "cells": [
  {
   "cell_type": "markdown",
   "metadata": {},
   "source": [
    "## 1. Bad Shuffle "
   ]
  },
  {
   "cell_type": "code",
   "execution_count": 49,
   "metadata": {},
   "outputs": [],
   "source": [
    "import random\n",
    "\n",
    "def shuffle1(deck):\n",
    "    \"My teacher's algorithm.\"\n",
    "    N = len(deck)\n",
    "    swapped = [False] * N\n",
    "    while not all (swapped):\n",
    "        i, j = random.randrange(N), random.randrange(N)\n",
    "        swapped[i] = swapped[j] = True\n",
    "        swap(deck, i, j)\n",
    "        \n",
    "\n",
    "def swap(deck, i, j):\n",
    "    \"Swap elements i and j of a collection\"\n",
    "#    print('swap', i, j)\n",
    "    deck[i], deck[j] = deck[j], deck[i]"
   ]
  },
  {
   "cell_type": "markdown",
   "metadata": {},
   "source": [
    "Part of the problem with this approach is that it is not guaranteed to terminate. Another part of this is that even when it does terminate, it's going to take a little bit longer to do so."
   ]
  },
  {
   "cell_type": "markdown",
   "metadata": {},
   "source": [
    "## 2. Shuffle Runtime"
   ]
  },
  {
   "cell_type": "markdown",
   "metadata": {},
   "source": [
    "It takes about $O(N^2)$ on average."
   ]
  },
  {
   "cell_type": "markdown",
   "metadata": {},
   "source": [
    "## 3. Good Shuffle"
   ]
  },
  {
   "cell_type": "code",
   "execution_count": 50,
   "metadata": {},
   "outputs": [],
   "source": [
    "import random\n",
    "# silple and clear\n",
    "def shuffle(deck):\n",
    "    \"Knuth's Algorithm P\"\n",
    "    N = len(deck)\n",
    "    for i in range(N - 1):\n",
    "        swap(deck, i, random.randrange(i, N))\n",
    "        \n",
    "def swap(deck, i, j):\n",
    "    \"Swap elements i and j of a collection\"\n",
    "#    print('swap', i, j)\n",
    "    deck[i], deck[j] = deck[j], deck[i]"
   ]
  },
  {
   "cell_type": "markdown",
   "metadata": {},
   "source": [
    "QUIZ:\n",
    "    for i in range(N)\n",
    "    1. Index Error\n",
    "    2. Value Error\n",
    "    3. No error, unfair\n",
    "    4. No error, fair\n",
    "    \n",
    " 答案是：4（时间多一点）"
   ]
  },
  {
   "cell_type": "markdown",
   "metadata": {},
   "source": [
    "## 4. Is it Random"
   ]
  },
  {
   "cell_type": "markdown",
   "metadata": {},
   "source": [
    "QUIZ:\n",
    "    teacher's shuffle:\n",
    "    1. Yes\n",
    "    2. No, some different\n",
    "    3. No, some zero\n",
    "    \n",
    " 答案是：2（实验尝试）"
   ]
  },
  {
   "cell_type": "markdown",
   "metadata": {},
   "source": [
    "## 5. Testing Shuffles"
   ]
  },
  {
   "cell_type": "code",
   "execution_count": 54,
   "metadata": {},
   "outputs": [],
   "source": [
    "from collections import defaultdict\n",
    "\n",
    "\n",
    "def test_shuffler(shuffler, deck='abcd', n=10000):\n",
    "    counts = collections.defaultdict(int)\n",
    "    for _ in range(n):\n",
    "        input = list(deck)\n",
    "        shuffler(input)\n",
    "        counts[''.join(input)] += 1\n",
    "    e = n*1./factorial(len(deck)) ## excepted count\n",
    "    ok = all((0.9 <= counts[item]/e <= 1.1)\n",
    "            for item in counts)\n",
    "    name = shuffler.__name__\n",
    "    print('%s(%s)%s'%(name, deck,('ok' if ok else '***BAD***')))\n",
    "    print('  ')\n",
    "    for item, count in sorted(counts.items()):\n",
    "        print(\"%s:%4.1f\"% (item, count*100./n)),\n",
    "    print\n",
    "    \n",
    "def test_shufflers(shufflers=[shuffle,shuffle1], decks=['abc','ab']):\n",
    "    for deck in decks:\n",
    "        print\n",
    "        for f in shufflers:\n",
    "            test_shuffler(f, deck)\n",
    "            \n",
    "def factorial(n):\n",
    "    return 1 if (n<=1) else n*factorial(n-1)"
   ]
  },
  {
   "cell_type": "code",
   "execution_count": 55,
   "metadata": {},
   "outputs": [
    {
     "name": "stdout",
     "output_type": "stream",
     "text": [
      "shuffle(abc)ok\n",
      "  \n",
      "abc:16.2\n",
      "acb:17.2\n",
      "bac:16.9\n",
      "bca:16.1\n",
      "cab:17.3\n",
      "cba:16.2\n",
      "shuffle1(abc)***BAD***\n",
      "  \n",
      "abc: 5.1\n",
      "acb:14.3\n",
      "bac:14.2\n",
      "bca:26.7\n",
      "cab:26.3\n",
      "cba:13.4\n",
      "shuffle(ab)ok\n",
      "  \n",
      "ab:49.9\n",
      "ba:50.1\n",
      "shuffle1(ab)***BAD***\n",
      "  \n",
      "ab:16.8\n",
      "ba:83.2\n"
     ]
    }
   ],
   "source": [
    "test_shufflers()"
   ]
  },
  {
   "cell_type": "code",
   "execution_count": 58,
   "metadata": {},
   "outputs": [],
   "source": [
    "import random\n",
    "\n",
    "def shuffle2(deck):\n",
    "    \"A modification of my teacher's algorithm.\"\n",
    "    N = len(deck)\n",
    "    swapped = [False] * N\n",
    "    while not all(swapped):\n",
    "        i, j = random.randrange(N), random.randrange(N)\n",
    "        swapped[i] = True\n",
    "        swap(deck, i, j)\n",
    "        \n",
    "def shuffle3(deck):\n",
    "    \"An easier modification of my teacher's algorithm.\"\n",
    "    N = len(deck)\n",
    "    for i in range(N):\n",
    "        swap(deck, i, random.randrange(N))"
   ]
  },
  {
   "cell_type": "code",
   "execution_count": 59,
   "metadata": {},
   "outputs": [],
   "source": [
    "shuffle2([\"a\",\"b\"])"
   ]
  },
  {
   "cell_type": "markdown",
   "metadata": {},
   "source": [
    "## 6. Comparing Shuffles "
   ]
  },
  {
   "cell_type": "markdown",
   "metadata": {},
   "source": [
    "QUIZ:\n",
    "1. shuffle: $O(n)$, correct\n",
    "2. shuffle1: $O(n^2)$, not correct\n",
    "3. shuffle2: $O(n^2)$, correct\n",
    "4. shuffle3: $O(n)$, not correct"
   ]
  },
  {
   "cell_type": "code",
   "execution_count": 60,
   "metadata": {},
   "outputs": [
    {
     "name": "stdout",
     "output_type": "stream",
     "text": [
      "shuffle2(abc)ok\n",
      "  \n",
      "abc:16.8\n",
      "acb:17.0\n",
      "bac:16.5\n",
      "bca:16.2\n",
      "cab:16.9\n",
      "cba:16.5\n",
      "shuffle3(abc)***BAD***\n",
      "  \n",
      "abc:14.8\n",
      "acb:18.5\n",
      "bac:18.0\n",
      "bca:19.0\n",
      "cab:14.5\n",
      "cba:15.2\n",
      "shuffle2(ab)ok\n",
      "  \n",
      "ab:50.4\n",
      "ba:49.6\n",
      "shuffle3(ab)ok\n",
      "  \n",
      "ab:50.2\n",
      "ba:49.8\n"
     ]
    }
   ],
   "source": [
    "test_shufflers(shufflers=[shuffle2,shuffle3], decks=['abc','ab'])"
   ]
  },
  {
   "cell_type": "markdown",
   "metadata": {},
   "source": [
    "##  7. Computing Or Doing"
   ]
  },
  {
   "cell_type": "markdown",
   "metadata": {},
   "source": [
    "Shuffle -> None\n",
    "\n",
    "computing: sqrt, sin (pure function)  EASY TO TEST\n",
    "doing: shuffle (impure function)"
   ]
  }
 ],
 "metadata": {
  "kernelspec": {
   "display_name": "Python 3",
   "language": "python",
   "name": "python3"
  },
  "language_info": {
   "codemirror_mode": {
    "name": "ipython",
    "version": 3
   },
   "file_extension": ".py",
   "mimetype": "text/x-python",
   "name": "python",
   "nbconvert_exporter": "python",
   "pygments_lexer": "ipython3",
   "version": "3.7.1"
  }
 },
 "nbformat": 4,
 "nbformat_minor": 2
}
