{
 "cells": [
  {
   "cell_type": "markdown",
   "metadata": {},
   "source": [
    "## 5. List Comprehensions 4"
   ]
  },
  {
   "cell_type": "code",
   "execution_count": 4,
   "metadata": {},
   "outputs": [],
   "source": [
    "#-----------------\n",
    "# User Instructions\n",
    "#\n",
    "# Use a list comprehension to identify all the TAs \n",
    "# Who are teaching a 300 level course (which would\n",
    "# be Gundega and Job). The string.find() function\n",
    "# may be helpful to you.\n",
    "#\n",
    "# Your ta_300 variable should be a list of 2 strings:\n",
    "# ta_300 = ['Gundega is the TA for CS373',\n",
    "#           'Job is the TA for CS387']\n",
    "\n",
    "ta_data = [['Peter', 'USA', 'CS262'],\n",
    "           ['Andy', 'USA', 'CS212'],\n",
    "           ['Sarah', 'England', 'CS101'],\n",
    "           ['Gundega', 'Latvia', 'CS373'],\n",
    "           ['Job', 'USA', 'CS387'],\n",
    "           ['Sean', 'USA', 'CS253']]\n",
    "\n",
    "ta_300 = [name + ' is the TA for ' + course for name, country, course in ta_data if course.find('CS3') != -1]"
   ]
  },
  {
   "cell_type": "code",
   "execution_count": 5,
   "metadata": {},
   "outputs": [
    {
     "data": {
      "text/plain": [
       "['Gundega is the TA for CS373', 'Job is the TA for CS387']"
      ]
     },
     "execution_count": 5,
     "metadata": {},
     "output_type": "execute_result"
    }
   ],
   "source": [
    "ta_300"
   ]
  }
 ],
 "metadata": {
  "kernelspec": {
   "display_name": "Python 3",
   "language": "python",
   "name": "python3"
  },
  "language_info": {
   "codemirror_mode": {
    "name": "ipython",
    "version": 3
   },
   "file_extension": ".py",
   "mimetype": "text/x-python",
   "name": "python",
   "nbconvert_exporter": "python",
   "pygments_lexer": "ipython3",
   "version": "3.7.1"
  }
 },
 "nbformat": 4,
 "nbformat_minor": 2
}
