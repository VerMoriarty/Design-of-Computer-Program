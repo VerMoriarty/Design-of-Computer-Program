{
 "cells": [
  {
   "cell_type": "markdown",
   "metadata": {},
   "source": [
    "## 11. Neighbors"
   ]
  },
  {
   "cell_type": "code",
   "execution_count": 1,
   "metadata": {},
   "outputs": [],
   "source": [
    "# ----------------\n",
    "# User Instructions\n",
    "#\n",
    "# Add the appropriate return statement to the nextto(h1, h2)\n",
    "# function below. It should return True when two houses \n",
    "# differ by 1, otherwise it should return False. \n",
    "\n",
    "import itertools\n",
    "\n",
    "houses = [1, 2, 3, 4, 5]\n",
    "orderings = list(itertools.permutations(houses))\n",
    "\n",
    "def imright(h1, h2):\n",
    "    \"House h1 is immediately right of h2 if h1-h2 == 1.\"\n",
    "    return h1-h2 == 1\n",
    "\n",
    "def nextto(h1, h2):\n",
    "    \"Two houses are next to each other if they differ by 1.\"\n",
    "    return abs(h1-h2) == 1."
   ]
  },
  {
   "cell_type": "markdown",
   "metadata": {},
   "source": [
    "## 19. Timed Calls"
   ]
  },
  {
   "cell_type": "code",
   "execution_count": 23,
   "metadata": {},
   "outputs": [],
   "source": [
    "# ----------------\n",
    "# User Instructions\n",
    "#\n",
    "# Modify the timedcalls(n, fn, *args) function so that it calls \n",
    "# fn(*args) repeatedly. It should call fn n times if n is an integer\n",
    "# and up to n seconds if n is a floating point number.\n",
    "\n",
    "import itertools\n",
    "\n",
    "def imright(h1, h2):\n",
    "    \"House h1 is immediately right of h2 if h1-h2 == 1.\"\n",
    "    return h1-h2 == 1\n",
    "\n",
    "def nextto(h1, h2):\n",
    "    \"Two houses are next to each other if they differ by 1.\"\n",
    "    return abs(h1-h2) == 1\n",
    "\n",
    "def zebra_puzzle():\n",
    "    \"Return a tuple (WATER, ZEBRA indicating their house numbers.\"\n",
    "    houses = first, _, middle, _, _ = [1, 2, 3, 4, 5]\n",
    "    orderings = list(itertools.permutations(houses)) # 1\n",
    "    return next((WATER, ZEBRA)\n",
    "                for (red, green, ivory, yellow, blue) in orderings\n",
    "                if imright(green, ivory)\n",
    "                for (Englishman, Spaniard, Ukranian, Japanese, Norwegian) in orderings\n",
    "                if Englishman is red\n",
    "                if Norwegian is first\n",
    "                if nextto(Norwegian, blue)\n",
    "                for (coffee, tea, milk, oj, WATER) in orderings\n",
    "                if coffee is green\n",
    "                if Ukranian is tea\n",
    "                if milk is middle\n",
    "                for (OldGold, Kools, Chesterfields, LuckyStrike, Parliaments) in orderings\n",
    "                if Kools is yellow\n",
    "                if LuckyStrike is oj\n",
    "                if Japanese is Parliaments\n",
    "                for (dog, snails, fox, horse, ZEBRA) in orderings\n",
    "                if Spaniard is dog\n",
    "                if OldGold is snails\n",
    "                if nextto(Chesterfields, fox)\n",
    "                if nextto(Kools, horse)\n",
    "                )\n",
    "\n",
    "import time\n",
    "\n",
    "def timedcall(fn, *args):\n",
    "    \"Call function with args; return the time in seconds and result.\"\n",
    "    t0 = time.clock()\n",
    "    result = fn(*args)\n",
    "    t1 = time.clock()\n",
    "    return t1-t0, result\n",
    "\n",
    "def average(numbers):\n",
    "    \"Return the average (arithmetic mean) of a sequence of numbers.\"\n",
    "    return sum(numbers) / float(len(numbers)) \n",
    "\n",
    "def timedcalls(n, fn, *args):\n",
    "    \"\"\"Call fn(*args) repeatedly: n times if n is an int, or up to\n",
    "    n seconds if n is a float; return the min, avg, and max time\"\"\"\n",
    "    if isinstance(n, int):\n",
    "        times = [timedcall(fn, *arges)[0] for _ in range(n)]\n",
    "    else:\n",
    "        times = []\n",
    "        while sum(times) < n:\n",
    "            times.append(timedcall(fn, *arges)[0])\n",
    "            \n",
    "    return min(times), average(times), max(times)\n",
    "\n"
   ]
  },
  {
   "cell_type": "markdown",
   "metadata": {},
   "source": [
    "## 22. All Ints"
   ]
  },
  {
   "cell_type": "code",
   "execution_count": 13,
   "metadata": {},
   "outputs": [],
   "source": [
    "# ------------\n",
    "# User Instructions\n",
    "#\n",
    "# Define a function, all_ints(), that generates the \n",
    "# integers in the order 0, +1, -1, +2, -2, ...\n",
    "\n",
    "def ints(start, end = None):\n",
    "    i = start\n",
    "    while i <= end or end is None:\n",
    "        yield i\n",
    "        i = i + 1\n",
    "    \n",
    "\n",
    "def all_ints():\n",
    "    \"Generate integers in the order 0, +1, -1, +2, -2, +3, -3, ...\"\n",
    "    yield 0\n",
    "    for i in ints(1):\n",
    "        yield +i\n",
    "        yield -i\n",
    "        \n",
    "def all_ints_1():\n",
    "    \"Generate integers in the order 0, +1, -1, +2, -2, +3, -3, ...\"\n",
    "    yield 0\n",
    "    i = 1\n",
    "    while True:\n",
    "        yield +i\n",
    "        yield -i\n",
    "        i = i + 1"
   ]
  },
  {
   "cell_type": "markdown",
   "metadata": {},
   "source": [
    "## 23. Nitty Gritty For Loops"
   ]
  },
  {
   "cell_type": "markdown",
   "metadata": {},
   "source": [
    "FOR STATEMENTS: THE WHOLE TRUTH\n",
    "\n",
    "for x in items:\n",
    "    print(x)\n",
    "    \n",
    "在 Python 中：\n",
    "\n",
    "it = iter(items):\n",
    "try:\n",
    "    while True:\n",
    "        x = next(it)\n",
    "        print(x)\n",
    "except Stop Iteration:\n",
    "    pass"
   ]
  },
  {
   "cell_type": "code",
   "execution_count": 14,
   "metadata": {},
   "outputs": [],
   "source": [
    "def c(sequence):\n",
    "    \"\"\"Generate items in sequence; keeping counts as we go. \n",
    "    c.start is the number of sequences started; c.items is number of items generated.\"\"\"\n",
    "    c.start += 1\n",
    "    for item in sequence:\n",
    "        c.items +=1\n",
    "        yield item"
   ]
  },
  {
   "cell_type": "markdown",
   "metadata": {},
   "source": [
    "## 24. Zebra Summary"
   ]
  },
  {
   "cell_type": "markdown",
   "metadata": {},
   "source": [
    "1. concept inventory\n",
    "2. refine ideas\n",
    "3. simple implementation\n",
    "4. back envelope\n",
    "5. refine code\n",
    "6. tools: timing, counts\n",
    "7. aspects\n",
    "\n",
    "CLEAN"
   ]
  },
  {
   "cell_type": "markdown",
   "metadata": {},
   "source": [
    "CONCEPTS\n",
    "1. equations: original(string), filled(string)\n",
    "2. letter: 'D'\n",
    "3. digits: '3'\n",
    "4. assignment: letters -> digit(table 'D' -> '3' str.translate)\n",
    "5. evaluation: eval eval('2+2') = 4"
   ]
  },
  {
   "cell_type": "markdown",
   "metadata": {},
   "source": [
    "## 29. Regular Expressions"
   ]
  },
  {
   "cell_type": "markdown",
   "metadata": {},
   "source": [
    "012 在 Python 中表示的是 10（以 0 开始，意思是以 8 为 base）"
   ]
  },
  {
   "cell_type": "markdown",
   "metadata": {},
   "source": [
    "## 30. Solving Cryptarithmetic"
   ]
  },
  {
   "cell_type": "code",
   "execution_count": 21,
   "metadata": {},
   "outputs": [],
   "source": [
    "# -------------\n",
    "# User Instructions\n",
    "#\n",
    "# Write a function, solve(formula) that solves cryptarithmetic puzzles.\n",
    "# The input should be a formula like 'ODD + ODD == EVEN', and the \n",
    "# output should be a string with the digits filled in, or None if the\n",
    "# problem is not solvable.\n",
    "#\n",
    "# Note that you will not be able to run your code yet since the \n",
    "# program is incomplete. Please SUBMIT to see if you are correct.\n",
    "\n",
    "import string, re \n",
    "\n",
    "def solve(formula):\n",
    "    \"\"\"Given a formula like 'ODD + ODD == EVEN', fill in digits to solve it.\n",
    "    Input formula is a string; output is a digit-filled-in string or None.\"\"\"\n",
    "    for f in fill_in(formula):\n",
    "        if valid(f):\n",
    "            return f\n",
    "                     \n",
    "    \n",
    "# assume: def fill_in(formula):\n",
    "#        \"Generate all possible fillings-in of letters in formula with digits.\"\n",
    "    \n",
    "def valid(f):\n",
    "    \"\"\"Formula f is valid if and only if it has no \n",
    "    numbers with leading zero, and evals true.\"\"\"\n",
    "    try: \n",
    "        return not re.search(r'\\b0[0-9]', f) and eval(f) is True\n",
    "    except ArithmeticError:\n",
    "        return False"
   ]
  },
  {
   "cell_type": "markdown",
   "metadata": {},
   "source": [
    "## 32. Filling In Fill In"
   ]
  },
  {
   "cell_type": "code",
   "execution_count": 25,
   "metadata": {},
   "outputs": [],
   "source": [
    "# -------------\n",
    "# User Instructions\n",
    "#\n",
    "# Complete the fill_in(formula) function by adding your code to\n",
    "# the two places marked with ?????. \n",
    "from __future__ import division\n",
    "import string, re, itertools\n",
    "\n",
    "def solve(formula):\n",
    "    \"\"\"Given a formula like 'ODD + ODD == EVEN', fill in digits to solve it.\n",
    "    Input formula is a string; output is a digit-filled-in string or None.\"\"\"\n",
    "    for f in fill_in(formula):\n",
    "        if valid(f):\n",
    "            return f\n",
    "    \n",
    "def fill_in(formula):\n",
    "    \"Generate all possible fillings-in of letters in formula with digits.\"\n",
    "    letters = \"\".join(set(re.findall('[A-Z]', formula))) #should be a string\n",
    "    for digits in itertools.permutations('1234567890', len(letters)):\n",
    "        table = str.maketrans(letters, ''.join(digits))\n",
    "        yield formula.translate(table)\n",
    "    \n",
    "def valid(f):\n",
    "    \"\"\"Formula f is valid if and only if it has no \n",
    "    numbers with leading zero, and evals true.\"\"\"\n",
    "    try: \n",
    "        return not re.search(r'\\b0[0-9]', f) and eval(f) is True\n",
    "    except ArithmeticError:\n",
    "        return False"
   ]
  },
  {
   "cell_type": "code",
   "execution_count": 26,
   "metadata": {},
   "outputs": [
    {
     "data": {
      "text/plain": [
       "False"
      ]
     },
     "execution_count": 26,
     "metadata": {},
     "output_type": "execute_result"
    }
   ],
   "source": [
    "valid(\"02+2==4\")"
   ]
  },
  {
   "cell_type": "code",
   "execution_count": 38,
   "metadata": {},
   "outputs": [
    {
     "data": {
      "text/plain": [
       "'413 + 413 == 5362'"
      ]
     },
     "execution_count": 38,
     "metadata": {},
     "output_type": "execute_result"
    }
   ],
   "source": [
    "next(fill_in(\"TWO + TWO == FOUR\"))"
   ]
  },
  {
   "cell_type": "code",
   "execution_count": 39,
   "metadata": {},
   "outputs": [
    {
     "data": {
      "text/plain": [
       "'928 + 928 == 1856'"
      ]
     },
     "execution_count": 39,
     "metadata": {},
     "output_type": "execute_result"
    }
   ],
   "source": [
    "solve(\"TWO + TWO == FOUR\")"
   ]
  },
  {
   "cell_type": "code",
   "execution_count": 64,
   "metadata": {},
   "outputs": [
    {
     "name": "stderr",
     "output_type": "stream",
     "text": [
      "C:\\Users\\89487\\Anaconda3\\lib\\site-packages\\ipykernel_launcher.py:5: DeprecationWarning: time.clock has been deprecated in Python 3.3 and will be removed from Python 3.8: use time.perf_counter or time.process_time instead\n",
      "  \"\"\"\n",
      "C:\\Users\\89487\\Anaconda3\\lib\\site-packages\\ipykernel_launcher.py:7: DeprecationWarning: time.clock has been deprecated in Python 3.3 and will be removed from Python 3.8: use time.perf_counter or time.process_time instead\n",
      "  import sys\n"
     ]
    },
    {
     "data": {
      "text/plain": [
       "(0.47817921100067906, '928 + 928 == 1856')"
      ]
     },
     "execution_count": 64,
     "metadata": {},
     "output_type": "execute_result"
    }
   ],
   "source": [
    "timedcall(solve, \"RAMN == R**3 + RM**3 == N**3 + RX**\")"
   ]
  },
  {
   "cell_type": "markdown",
   "metadata": {},
   "source": [
    "## 34. Testing"
   ]
  },
  {
   "cell_type": "code",
   "execution_count": 144,
   "metadata": {},
   "outputs": [],
   "source": [
    "import time\n",
    "\n",
    "def timedcall(fn, *args):\n",
    "    \"Call function with args; return the time in seconds and result.\"\n",
    "    t0 = time.clock()\n",
    "    result = fn(*args)\n",
    "    t1 = time.clock()\n",
    "    return t1-t0, result\n",
    "\n",
    "examples = \"\"\"TWO + TWO == FOUR\n",
    "A**2 + B**2 == C**2\n",
    "A**2 + B**2 == BY**2\n",
    "X/X == X\n",
    "A**N + B**N == C**N and N > 1\n",
    "ATOM**0.5 == A + TO + M\n",
    "GLITTERS is not GOLD\n",
    "ONE < TWO and FOUR < FIVE\n",
    "ONE < TWO < THREE\n",
    "RAMN == R**3 + RM**3 == N**3 + RX**3\n",
    "sum(range(AA)) == BB\n",
    "sum(range(POP)) == BOBO\n",
    "ODD + ODD == EVEN\n",
    "PLUTO not in set([PLANETS])\n",
    "\"\"\".splitlines()\n",
    "\n",
    "def test():\n",
    "    t0 = time.clock()\n",
    "    for example in examples:\n",
    "        print; print(13*' ', example)\n",
    "        print('%6.4f sec:   %s'%timedcall(solve, example))\n",
    "    print('%6.4f tot.'%(time.clock()-t0))"
   ]
  },
  {
   "cell_type": "code",
   "execution_count": 4,
   "metadata": {},
   "outputs": [
    {
     "name": "stderr",
     "output_type": "stream",
     "text": [
      "C:\\Users\\89487\\Anaconda3\\lib\\site-packages\\ipykernel_launcher.py:27: DeprecationWarning: time.clock has been deprecated in Python 3.3 and will be removed from Python 3.8: use time.perf_counter or time.process_time instead\n",
      "C:\\Users\\89487\\Anaconda3\\lib\\site-packages\\ipykernel_launcher.py:5: DeprecationWarning: time.clock has been deprecated in Python 3.3 and will be removed from Python 3.8: use time.perf_counter or time.process_time instead\n",
      "  \"\"\"\n"
     ]
    },
    {
     "name": "stdout",
     "output_type": "stream",
     "text": [
      "              TWO + TWO == FOUR\n"
     ]
    },
    {
     "name": "stderr",
     "output_type": "stream",
     "text": [
      "C:\\Users\\89487\\Anaconda3\\lib\\site-packages\\ipykernel_launcher.py:7: DeprecationWarning: time.clock has been deprecated in Python 3.3 and will be removed from Python 3.8: use time.perf_counter or time.process_time instead\n",
      "  import sys\n"
     ]
    },
    {
     "name": "stdout",
     "output_type": "stream",
     "text": [
      "1.6379 sec:   765 + 765 == 1530\n",
      "              A**2 + B**2 == C**2\n",
      "0.0069 sec:   3**2 + 4**2 == 5**2\n",
      "              A**2 + B**2 == BY**2\n",
      "0.0157 sec:   None\n",
      "              X/X == X\n",
      "0.0001 sec:   1/1 == 1\n",
      "              A**N + B**N == C**N and N > 1\n",
      "0.0605 sec:   3**2 + 4**2 == 5**2 and 2 > 1\n",
      "              ATOM**0.5 == A + TO + M\n",
      "0.0084 sec:   1296**0.5 == 1 + 29 + 6\n",
      "              GLITTERS is not GOLD\n",
      "0.0001 sec:   87233451 is not 8976\n",
      "              ONE < TWO and FOUR < FIVE\n",
      "7.4153 sec:   196 < 301 and 4157 < 4286\n",
      "              ONE < TWO < THREE\n",
      "1.4201 sec:   163 < 271 < 25433\n",
      "              RAMN == R**3 + RM**3 == N**3 + RX**3\n",
      "0.1594 sec:   1729 == 1**3 + 12**3 == 9**3 + 10**3\n",
      "              sum(range(AA)) == BB\n",
      "0.0002 sec:   sum(range(11)) == 55\n",
      "              sum(range(POP)) == BOBO\n",
      "0.0021 sec:   sum(range(101)) == 5050\n",
      "              ODD + ODD == EVEN\n",
      "0.0172 sec:   655 + 655 == 1310\n",
      "              PLUTO not in set([PLANETS])\n",
      "0.0004 sec:   76329 not in set([7684521])\n",
      "10.7528 tot.\n"
     ]
    },
    {
     "name": "stderr",
     "output_type": "stream",
     "text": [
      "C:\\Users\\89487\\Anaconda3\\lib\\site-packages\\ipykernel_launcher.py:31: DeprecationWarning: time.clock has been deprecated in Python 3.3 and will be removed from Python 3.8: use time.perf_counter or time.process_time instead\n"
     ]
    }
   ],
   "source": [
    "test()"
   ]
  },
  {
   "cell_type": "code",
   "execution_count": 145,
   "metadata": {},
   "outputs": [],
   "source": [
    "examples = \"\"\"TWO + TWO == FOUR\n",
    "A**2 + B**2 == C**2\n",
    "A**2 + B**2 == BY**2\n",
    "X/X == X\n",
    "A**N + B**N == C**N and N > 1\n",
    "ATOM**0.5 == A + TO + M\n",
    "GLITTERS is not GOLD\n",
    "ONE < TWO and FOUR < FIVE\n",
    "ONE < TWO <THREE\n",
    "RAMN == R**3 + RM**3 == N**3 + RX**3\n",
    "sum(range(AA)) == BB\n",
    "sum(range(POP)) == BOBO\n",
    "ODD + ODD == EVEN\n",
    "PLUTO not in set([PLANETS])\n",
    "\"\"\".splitlines()"
   ]
  },
  {
   "cell_type": "markdown",
   "metadata": {},
   "source": [
    "## 35. Find All Values"
   ]
  },
  {
   "cell_type": "markdown",
   "metadata": {},
   "source": [
    "ALL VALUES: \"return\" to \"print\" in solve"
   ]
  },
  {
   "cell_type": "markdown",
   "metadata": {},
   "source": [
    "## 36. Tracking Time"
   ]
  },
  {
   "cell_type": "code",
   "execution_count": 5,
   "metadata": {},
   "outputs": [
    {
     "name": "stderr",
     "output_type": "stream",
     "text": [
      "C:\\Users\\89487\\Anaconda3\\lib\\site-packages\\ipykernel_launcher.py:27: DeprecationWarning: time.clock has been deprecated in Python 3.3 and will be removed from Python 3.8: use time.perf_counter or time.process_time instead\n",
      "C:\\Users\\89487\\Anaconda3\\lib\\site-packages\\ipykernel_launcher.py:5: DeprecationWarning: time.clock has been deprecated in Python 3.3 and will be removed from Python 3.8: use time.perf_counter or time.process_time instead\n",
      "  \"\"\"\n"
     ]
    },
    {
     "name": "stdout",
     "output_type": "stream",
     "text": [
      "              TWO + TWO == FOUR\n"
     ]
    },
    {
     "name": "stderr",
     "output_type": "stream",
     "text": [
      "C:\\Users\\89487\\Anaconda3\\lib\\site-packages\\ipykernel_launcher.py:7: DeprecationWarning: time.clock has been deprecated in Python 3.3 and will be removed from Python 3.8: use time.perf_counter or time.process_time instead\n",
      "  import sys\n"
     ]
    },
    {
     "name": "stdout",
     "output_type": "stream",
     "text": [
      "2.2037 sec:   765 + 765 == 1530\n",
      "              A**2 + B**2 == C**2\n",
      "0.0089 sec:   3**2 + 4**2 == 5**2\n",
      "              A**2 + B**2 == BY**2\n",
      "0.0187 sec:   None\n",
      "              X/X == X\n",
      "0.0002 sec:   1/1 == 1\n",
      "              A**N + B**N == C**N and N > 1\n",
      "0.0716 sec:   3**2 + 4**2 == 5**2 and 2 > 1\n",
      "              ATOM**0.5 == A + TO + M\n",
      "0.0097 sec:   1296**0.5 == 1 + 29 + 6\n",
      "              GLITTERS is not GOLD\n",
      "0.0002 sec:   87233451 is not 8976\n",
      "              ONE < TWO and FOUR < FIVE\n",
      "9.0630 sec:   196 < 301 and 4157 < 4286\n",
      "              ONE < TWO < THREE\n",
      "1.7491 sec:   163 < 271 < 25433\n",
      "              RAMN == R**3 + RM**3 == N**3 + RX**3\n",
      "0.1094 sec:   1729 == 1**3 + 12**3 == 9**3 + 10**3\n",
      "              sum(range(AA)) == BB\n",
      "0.0003 sec:   sum(range(11)) == 55\n",
      "              sum(range(POP)) == BOBO\n",
      "0.0021 sec:   sum(range(101)) == 5050\n",
      "              ODD + ODD == EVEN\n",
      "0.0113 sec:   655 + 655 == 1310\n",
      "              PLUTO not in set([PLANETS])\n",
      "0.0002 sec:   76329 not in set([7684521])\n",
      "13.2729 tot.\n"
     ]
    },
    {
     "name": "stderr",
     "output_type": "stream",
     "text": [
      "C:\\Users\\89487\\Anaconda3\\lib\\site-packages\\ipykernel_launcher.py:31: DeprecationWarning: time.clock has been deprecated in Python 3.3 and will be removed from Python 3.8: use time.perf_counter or time.process_time instead\n"
     ]
    },
    {
     "name": "stdout",
     "output_type": "stream",
     "text": [
      "         5641243 function calls in 13.082 seconds\n",
      "\n",
      "   Ordered by: standard name\n",
      "\n",
      "   ncalls  tottime  percall  cumtime  percall filename:lineno(function)\n",
      "   579051    0.879    0.000    2.505    0.000 <ipython-input-1-08ed7c948fed>:16(fill_in)\n",
      "   579037    0.609    0.000   10.350    0.000 <ipython-input-1-08ed7c948fed>:23(valid)\n",
      "       14    0.393    0.028   13.248    0.946 <ipython-input-1-08ed7c948fed>:9(solve)\n",
      "        1    0.010    0.010   13.274   13.274 <ipython-input-3-0ec3b0c68528>:26(test)\n",
      "       14    0.010    0.001   13.258    0.947 <ipython-input-3-0ec3b0c68528>:3(timedcall)\n",
      "        1    0.000    0.000    0.000    0.000 <string>:1(<module>)\n",
      "       97    0.000    0.000    0.004    0.000 iostream.py:195(schedule)\n",
      "       90    0.000    0.000    0.000    0.000 iostream.py:307(_is_master_process)\n",
      "       90    0.000    0.000    0.000    0.000 iostream.py:320(_schedule_flush)\n",
      "       90    0.000    0.000    0.005    0.000 iostream.py:382(write)\n",
      "       97    0.000    0.000    0.000    0.000 iostream.py:93(_event_pipe)\n",
      "        4    0.000    0.000    0.000    0.000 linecache.py:15(getline)\n",
      "        4    0.000    0.000    0.000    0.000 linecache.py:37(getlines)\n",
      "   579037    0.412    0.000    2.289    0.000 re.py:180(search)\n",
      "       14    0.000    0.000    0.000    0.000 re.py:215(findall)\n",
      "   579051    0.559    0.000    0.798    0.000 re.py:271(_compile)\n",
      "       97    0.004    0.000    0.004    0.000 socket.py:334(send)\n",
      "       97    0.000    0.000    0.000    0.000 threading.py:1038(_wait_for_tstate_lock)\n",
      "       97    0.000    0.000    0.000    0.000 threading.py:1080(is_alive)\n",
      "       97    0.000    0.000    0.000    0.000 threading.py:507(is_set)\n",
      "        4    0.000    0.000    0.000    0.000 warnings.py:106(_formatwarnmsg)\n",
      "        4    0.000    0.000    0.001    0.000 warnings.py:20(_showwarnmsg_impl)\n",
      "        4    0.000    0.000    0.000    0.000 warnings.py:35(_formatwarnmsg_impl)\n",
      "        4    0.000    0.000    0.000    0.000 warnings.py:408(__init__)\n",
      "        4    0.000    0.000    0.001    0.000 warnings.py:85(_showwarnmsg)\n",
      "   428393    7.260    0.000    7.452    0.000 {built-in method builtins.eval}\n",
      "        1    0.000    0.000   13.274   13.274 {built-in method builtins.exec}\n",
      "   579141    0.239    0.000    0.239    0.000 {built-in method builtins.isinstance}\n",
      "       22    0.000    0.000    0.000    0.000 {built-in method builtins.len}\n",
      "       29    0.000    0.000    0.005    0.000 {built-in method builtins.print}\n",
      "       64    0.000    0.000    0.000    0.000 {built-in method builtins.sum}\n",
      "   579037    0.581    0.000    0.581    0.000 {built-in method maketrans}\n",
      "       90    0.000    0.000    0.000    0.000 {built-in method nt.getpid}\n",
      "       30    0.000    0.000    0.001    0.000 {built-in method time.clock}\n",
      "       97    0.000    0.000    0.000    0.000 {method 'acquire' of '_thread.lock' objects}\n",
      "       97    0.000    0.000    0.000    0.000 {method 'append' of 'collections.deque' objects}\n",
      "        1    0.000    0.000    0.000    0.000 {method 'disable' of '_lsprof.Profiler' objects}\n",
      "       14    0.000    0.000    0.000    0.000 {method 'findall' of 're.Pattern' objects}\n",
      "   579051    0.218    0.000    0.218    0.000 {method 'join' of 'str' objects}\n",
      "   579037    1.080    0.000    1.080    0.000 {method 'search' of 're.Pattern' objects}\n",
      "        2    0.000    0.000    0.000    0.000 {method 'strip' of 'str' objects}\n",
      "   579037    0.827    0.000    0.827    0.000 {method 'translate' of 'str' objects}\n",
      "\n",
      "\n"
     ]
    }
   ],
   "source": [
    "import cProfile\n",
    "cProfile.run('test()')"
   ]
  },
  {
   "cell_type": "markdown",
   "metadata": {},
   "source": [
    "LAW OF DIMINISHING RETURNS"
   ]
  },
  {
   "cell_type": "markdown",
   "metadata": {},
   "source": [
    "## 38. Rethinking Eval"
   ]
  },
  {
   "cell_type": "markdown",
   "metadata": {},
   "source": [
    "eval\n",
    "\n",
    "1. fewer calls: eval formula once as a function with parameters\n",
    "2. easier calls: break it up into small pieces(没什么效果)"
   ]
  },
  {
   "cell_type": "markdown",
   "metadata": {},
   "source": [
    "## 40. Lambda"
   ]
  },
  {
   "cell_type": "markdown",
   "metadata": {},
   "source": [
    "eval: str -- (parse) --> tree -- (code gen) --> LOAD … -- (execute) --> result \n",
    "\n",
    "lambda"
   ]
  },
  {
   "cell_type": "markdown",
   "metadata": {},
   "source": [
    "## 41. Compile Word"
   ]
  },
  {
   "cell_type": "code",
   "execution_count": 17,
   "metadata": {},
   "outputs": [],
   "source": [
    "# --------------\n",
    "# User Instructions\n",
    "#\n",
    "# Write a function, compile_word(word), that compiles a word\n",
    "# of UPPERCASE letters as numeric digits. For example:\n",
    "# compile_word('YOU') => '(1*U + 10*O +100*Y)' \n",
    "# Non-uppercase words should remain unchaged.\n",
    "\n",
    "def compile_word(word):\n",
    "    \"\"\"Compile a word of uppercase letters as numeric digits.\n",
    "    E.g., compile_word('YOU') => '(1*U+10*O+100*Y)'\n",
    "    Non-uppercase words unchanged: compile_word('+') => '+'\"\"\"\n",
    "    if word.isupper():\n",
    "        terms = [('%s*%s'% (10**i, d))\n",
    "                for (i,d) in enumerate(word[::-1])]\n",
    "        return '(' + '+'.join(terms) + ')'\n",
    "    else:\n",
    "        return word        "
   ]
  },
  {
   "cell_type": "code",
   "execution_count": 12,
   "metadata": {},
   "outputs": [
    {
     "data": {
      "text/plain": [
       "True"
      ]
     },
     "execution_count": 12,
     "metadata": {},
     "output_type": "execute_result"
    }
   ],
   "source": [
    "'YOU'.isupper()"
   ]
  },
  {
   "cell_type": "code",
   "execution_count": 13,
   "metadata": {},
   "outputs": [],
   "source": [
    "word = 'YOU'\n",
    "terms = [('%s*%s'% (10**i, d))\n",
    "                for (i,d) in enumerate(word[::-1])]"
   ]
  },
  {
   "cell_type": "code",
   "execution_count": 14,
   "metadata": {},
   "outputs": [
    {
     "data": {
      "text/plain": [
       "['1*U', '10*O', '100*Y']"
      ]
     },
     "execution_count": 14,
     "metadata": {},
     "output_type": "execute_result"
    }
   ],
   "source": [
    "terms"
   ]
  },
  {
   "cell_type": "code",
   "execution_count": 15,
   "metadata": {},
   "outputs": [
    {
     "data": {
      "text/plain": [
       "'(1*U+10*O+100*Y)'"
      ]
     },
     "execution_count": 15,
     "metadata": {},
     "output_type": "execute_result"
    }
   ],
   "source": [
    "'(' + '+'.join(terms) + ')'"
   ]
  },
  {
   "cell_type": "code",
   "execution_count": 18,
   "metadata": {},
   "outputs": [
    {
     "data": {
      "text/plain": [
       "'(1*U+10*O+100*Y)'"
      ]
     },
     "execution_count": 18,
     "metadata": {},
     "output_type": "execute_result"
    }
   ],
   "source": [
    "compile_word(word)"
   ]
  },
  {
   "cell_type": "code",
   "execution_count": 133,
   "metadata": {},
   "outputs": [],
   "source": [
    "def faster_solve(formula):\n",
    "    \"\"\"Given a formula like 'ODD + ODD == EVEN', fill in digits to solve it.\n",
    "    Inpute formula is a string; out put is a digit-filled-in string or None.\n",
    "    This verson precompiles the formula; only one eval per formula.\"\"\"\n",
    "    f, letters = compile_formula(formula)\n",
    "    for digits in itertools.permutations((1,2,3,4,5,6,7,8,9,0), len(letters)):\n",
    "        try:\n",
    "            if f(*digits) is True:\n",
    "                table = str.maketrans(letters, ''.join(map(str, digits)))\n",
    "                return formula.translate(table)\n",
    "        except ArithmeticError:\n",
    "            pass\n",
    "                            \n",
    "def compile_formula(formula, verbose=False):\n",
    "    \"\"\"Compile formula into a function. Also return letters found, as a str,\n",
    "    in some order as parms of function. For example, 'YOU == ME**2' returns\n",
    "    (lambda Y, M, E, U, O: (U+10*O+100*Y) == (E+10*M)**2), 'YMEUO'\"\"\"\n",
    "    letters = ''.join(set(re.findall('[A-Z]', formula)))\n",
    "    parms = ', '.join(letters)\n",
    "    tokens = map(compile_word, re.split('([A-Z]+)', formula))\n",
    "    body = ''.join(tokens)\n",
    "    f = 'lambda %s:%s' %(parms, body)\n",
    "    # To debug this function\n",
    "    if verbose: print(f)\n",
    "    return eval(f), letters"
   ]
  },
  {
   "cell_type": "code",
   "execution_count": 134,
   "metadata": {},
   "outputs": [],
   "source": [
    "formula = \"ODD + ODD == EVEN\"\n",
    "letters = ''.join(set(re.findall('[A-Z]', formula)))\n",
    "parms = ', '.join(letters)"
   ]
  },
  {
   "cell_type": "code",
   "execution_count": 135,
   "metadata": {},
   "outputs": [
    {
     "data": {
      "text/plain": [
       "'EVDNO'"
      ]
     },
     "execution_count": 135,
     "metadata": {},
     "output_type": "execute_result"
    }
   ],
   "source": [
    "letters"
   ]
  },
  {
   "cell_type": "code",
   "execution_count": 136,
   "metadata": {},
   "outputs": [
    {
     "data": {
      "text/plain": [
       "'E, V, D, N, O'"
      ]
     },
     "execution_count": 136,
     "metadata": {},
     "output_type": "execute_result"
    }
   ],
   "source": [
    "parms"
   ]
  },
  {
   "cell_type": "code",
   "execution_count": 137,
   "metadata": {},
   "outputs": [
    {
     "data": {
      "text/plain": [
       "['', 'ODD', ' + ', 'ODD', ' == ', 'EVEN', '']"
      ]
     },
     "execution_count": 137,
     "metadata": {},
     "output_type": "execute_result"
    }
   ],
   "source": [
    "re.split('([A-Z]+)', formula)"
   ]
  },
  {
   "cell_type": "code",
   "execution_count": 138,
   "metadata": {},
   "outputs": [
    {
     "data": {
      "text/plain": [
       "(<function __main__.<lambda>(E, V, D, N, O)>, 'EVDNO')"
      ]
     },
     "execution_count": 138,
     "metadata": {},
     "output_type": "execute_result"
    }
   ],
   "source": [
    "compile_formula(formula)"
   ]
  },
  {
   "cell_type": "code",
   "execution_count": 139,
   "metadata": {},
   "outputs": [
    {
     "data": {
      "text/plain": [
       "'655 + 655 == 1310'"
      ]
     },
     "execution_count": 139,
     "metadata": {},
     "output_type": "execute_result"
    }
   ],
   "source": [
    "digits = (1,3,5,0,6)\n",
    "f(*digits)\n",
    "table = str.maketrans(letters, ''.join(map(str, digits)))\n",
    "formula.translate(table)"
   ]
  },
  {
   "cell_type": "code",
   "execution_count": 130,
   "metadata": {},
   "outputs": [
    {
     "data": {
      "text/plain": [
       "'655 + 655 == 1310'"
      ]
     },
     "execution_count": 130,
     "metadata": {},
     "output_type": "execute_result"
    }
   ],
   "source": [
    "formula.translate(table)"
   ]
  },
  {
   "cell_type": "code",
   "execution_count": 146,
   "metadata": {},
   "outputs": [],
   "source": [
    "examples = \"\"\"TWO + TWO == FOUR\n",
    "A**2 + B**2 == C**2\n",
    "A**2 + B**2 == BY**2\n",
    "X/X == X\n",
    "A**N + B**N == C**N and N > 1\n",
    "ATOM**0.5 == A + TO + M\n",
    "GLITTERS is not GOLD\n",
    "ONE < TWO and FOUR < FIVE\n",
    "ONE < TWO <THREE\n",
    "RAMN == R**3 + RM**3 == N**3 + RX**3\n",
    "sum(range(AA)) == BB\n",
    "sum(range(POP)) == BOBO\n",
    "ODD + ODD == EVEN\n",
    "PLUTO not in set([PLANETS])\n",
    "\"\"\".splitlines()"
   ]
  },
  {
   "cell_type": "code",
   "execution_count": 148,
   "metadata": {},
   "outputs": [
    {
     "data": {
      "text/plain": [
       "'1729 == 1**3 + 12**3 == 9**3 + 10**3'"
      ]
     },
     "execution_count": 148,
     "metadata": {},
     "output_type": "execute_result"
    }
   ],
   "source": [
    "faster_solve(\"RAMN == R**3 + RM**3 == N**3 + RX**3\")"
   ]
  },
  {
   "cell_type": "code",
   "execution_count": 149,
   "metadata": {},
   "outputs": [],
   "source": [
    "def test_faster_solve():\n",
    "    t0 = time.clock()\n",
    "    for example in examples:\n",
    "        print; print(13*' ', example)\n",
    "        print('%6.4f sec:   %s'%timedcall(faster_solve, example))\n",
    "    print('%6.4f tot.'%(time.clock()-t0))"
   ]
  },
  {
   "cell_type": "code",
   "execution_count": 150,
   "metadata": {},
   "outputs": [
    {
     "name": "stdout",
     "output_type": "stream",
     "text": [
      "              TWO + TWO == FOUR\n",
      "0.0067 sec:   173 + 173 == 0346\n",
      "              A**2 + B**2 == C**2\n",
      "0.0009 sec:   3**2 + 4**2 == 5**2\n",
      "              A**2 + B**2 == BY**2\n",
      "0.0019 sec:   None\n",
      "              X/X == X\n",
      "0.0002 sec:   1/1 == 1\n",
      "              A**N + B**N == C**N and N > 1\n",
      "0.0055 sec:   3**2 + 4**2 == 5**2 and 2 > 1\n",
      "              ATOM**0.5 == A + TO + M\n",
      "0.0009 sec:   1296**0.5 == 1 + 29 + 6\n",
      "              GLITTERS is not GOLD\n",
      "0.0003 sec:   87233451 is not 8976\n",
      "              ONE < TWO and FOUR < FIVE\n",
      "0.0003 sec:   085 < 290 and 3046 < 3175\n",
      "              ONE < TWO <THREE\n",
      "0.0002 sec:   052 < 160 <14322\n",
      "              RAMN == R**3 + RM**3 == N**3 + RX**3\n",
      "0.0083 sec:   1729 == 1**3 + 12**3 == 9**3 + 10**3\n",
      "              sum(range(AA)) == BB\n",
      "0.0004 sec:   sum(range(11)) == 55\n",
      "              sum(range(POP)) == BOBO\n",
      "0.0006 sec:   sum(range(101)) == 5050\n",
      "              ODD + ODD == EVEN\n",
      "0.0010 sec:   655 + 655 == 1310\n",
      "              PLUTO not in set([PLANETS])\n",
      "0.0004 sec:   76329 not in set([7684521])\n",
      "0.0333 tot.\n",
      "         1929 function calls (1883 primitive calls) in 0.015 seconds\n",
      "\n",
      "   Ordered by: standard name\n",
      "\n",
      "   ncalls  tottime  percall  cumtime  percall filename:lineno(function)\n",
      "       14    0.005    0.000    0.027    0.002 <ipython-input-133-e842574ac9d2>:1(faster_solve)\n",
      "       14    0.000    0.000    0.003    0.000 <ipython-input-133-e842574ac9d2>:14(compile_formula)\n",
      "       14    0.000    0.000    0.028    0.002 <ipython-input-144-0ec3b0c68528>:3(timedcall)\n",
      "        1    0.000    0.000    0.034    0.034 <ipython-input-149-c96d27c7e3c9>:1(test_faster_solve)\n",
      "       46    0.000    0.000    0.000    0.000 <ipython-input-17-ad8c55fd2c64>:14(<listcomp>)\n",
      "      106    0.000    0.000    0.000    0.000 <ipython-input-17-ad8c55fd2c64>:9(compile_word)\n",
      "        1    0.000    0.000    0.000    0.000 <string>:1(<lambda>)\n",
      "        1    0.000    0.000    0.000    0.000 <string>:1(<module>)\n",
      "       92    0.000    0.000    0.005    0.000 iostream.py:195(schedule)\n",
      "       90    0.000    0.000    0.000    0.000 iostream.py:307(_is_master_process)\n",
      "       90    0.000    0.000    0.000    0.000 iostream.py:320(_schedule_flush)\n",
      "       90    0.000    0.000    0.006    0.000 iostream.py:382(write)\n",
      "       92    0.000    0.000    0.000    0.000 iostream.py:93(_event_pipe)\n",
      "        4    0.000    0.000    0.000    0.000 linecache.py:15(getline)\n",
      "        4    0.000    0.000    0.000    0.000 linecache.py:37(getlines)\n",
      "       14    0.000    0.000    0.000    0.000 re.py:205(split)\n",
      "       14    0.000    0.000    0.000    0.000 re.py:215(findall)\n",
      "       28    0.000    0.000    0.000    0.000 re.py:271(_compile)\n",
      "       92    0.004    0.000    0.004    0.000 socket.py:334(send)\n",
      "       92    0.000    0.000    0.000    0.000 threading.py:1038(_wait_for_tstate_lock)\n",
      "       92    0.000    0.000    0.000    0.000 threading.py:1080(is_alive)\n",
      "       92    0.000    0.000    0.000    0.000 threading.py:507(is_set)\n",
      "        4    0.000    0.000    0.000    0.000 warnings.py:106(_formatwarnmsg)\n",
      "        4    0.000    0.000    0.000    0.000 warnings.py:20(_showwarnmsg_impl)\n",
      "        4    0.000    0.000    0.000    0.000 warnings.py:35(_formatwarnmsg_impl)\n",
      "        4    0.000    0.000    0.000    0.000 warnings.py:408(__init__)\n",
      "        4    0.000    0.000    0.000    0.000 warnings.py:85(_showwarnmsg)\n",
      "       14    0.002    0.000    0.002    0.000 {built-in method builtins.eval}\n",
      "        1    0.000    0.000    0.034    0.034 {built-in method builtins.exec}\n",
      "      118    0.000    0.000    0.000    0.000 {built-in method builtins.isinstance}\n",
      "       22    0.000    0.000    0.000    0.000 {built-in method builtins.len}\n",
      "       29    0.000    0.000    0.005    0.000 {built-in method builtins.print}\n",
      "       72    0.000    0.000    0.000    0.000 {built-in method builtins.sum}\n",
      "       13    0.000    0.000    0.000    0.000 {built-in method maketrans}\n",
      "       90    0.000    0.000    0.000    0.000 {built-in method nt.getpid}\n",
      "       30    0.000    0.000    0.001    0.000 {built-in method time.clock}\n",
      "       92    0.000    0.000    0.000    0.000 {method 'acquire' of '_thread.lock' objects}\n",
      "       92    0.000    0.000    0.000    0.000 {method 'append' of 'collections.deque' objects}\n",
      "        1    0.000    0.000    0.000    0.000 {method 'disable' of '_lsprof.Profiler' objects}\n",
      "       14    0.000    0.000    0.000    0.000 {method 'findall' of 're.Pattern' objects}\n",
      "      106    0.000    0.000    0.000    0.000 {method 'isupper' of 'str' objects}\n",
      "   101/55    0.000    0.000    0.001    0.000 {method 'join' of 'str' objects}\n",
      "       14    0.000    0.000    0.000    0.000 {method 'split' of 're.Pattern' objects}\n",
      "        4    0.000    0.000    0.000    0.000 {method 'strip' of 'str' objects}\n",
      "       13    0.000    0.000    0.000    0.000 {method 'translate' of 'str' objects}\n",
      "\n",
      "\n"
     ]
    },
    {
     "name": "stderr",
     "output_type": "stream",
     "text": [
      "C:\\Users\\89487\\Anaconda3\\lib\\site-packages\\ipykernel_launcher.py:2: DeprecationWarning: time.clock has been deprecated in Python 3.3 and will be removed from Python 3.8: use time.perf_counter or time.process_time instead\n",
      "  \n",
      "C:\\Users\\89487\\Anaconda3\\lib\\site-packages\\ipykernel_launcher.py:5: DeprecationWarning: time.clock has been deprecated in Python 3.3 and will be removed from Python 3.8: use time.perf_counter or time.process_time instead\n",
      "  \"\"\"\n",
      "C:\\Users\\89487\\Anaconda3\\lib\\site-packages\\ipykernel_launcher.py:7: DeprecationWarning: time.clock has been deprecated in Python 3.3 and will be removed from Python 3.8: use time.perf_counter or time.process_time instead\n",
      "  import sys\n",
      "C:\\Users\\89487\\Anaconda3\\lib\\site-packages\\ipykernel_launcher.py:6: DeprecationWarning: time.clock has been deprecated in Python 3.3 and will be removed from Python 3.8: use time.perf_counter or time.process_time instead\n",
      "  \n"
     ]
    }
   ],
   "source": [
    "import cProfile\n",
    "cProfile.run('test_faster_solve()')"
   ]
  },
  {
   "cell_type": "markdown",
   "metadata": {},
   "source": [
    "这里比之前速度快了不少。"
   ]
  },
  {
   "cell_type": "markdown",
   "metadata": {},
   "source": [
    "## 43. Recap"
   ]
  },
  {
   "cell_type": "markdown",
   "metadata": {},
   "source": [
    "PYTHON\n",
    "1. list comprehensions\n",
    "2. generators expressions: (...for ...)\n",
    "3. generators: yield x\n",
    "4. handing types: \"polymorphism\"\n",
    "5. eval str -> object\n",
    "\n",
    "INSTRUMENTATION\n",
    "timing time.clock() timedcall(s) \n",
    "conuting"
   ]
  }
 ],
 "metadata": {
  "kernelspec": {
   "display_name": "Python 3",
   "language": "python",
   "name": "python3"
  },
  "language_info": {
   "codemirror_mode": {
    "name": "ipython",
    "version": 3
   },
   "file_extension": ".py",
   "mimetype": "text/x-python",
   "name": "python",
   "nbconvert_exporter": "python",
   "pygments_lexer": "ipython3",
   "version": "3.7.1"
  },
  "toc": {
   "base_numbering": 1,
   "nav_menu": {},
   "number_sections": true,
   "sideBar": true,
   "skip_h1_title": false,
   "title_cell": "Table of Contents",
   "title_sidebar": "Contents",
   "toc_cell": false,
   "toc_position": {},
   "toc_section_display": true,
   "toc_window_display": false
  }
 },
 "nbformat": 4,
 "nbformat_minor": 2
}
